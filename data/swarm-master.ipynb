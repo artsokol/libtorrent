{
 "cells": [
  {
   "cell_type": "markdown",
   "metadata": {},
   "source": [
    "### swarm-master ###\n",
    "\n",
    "The script similates work of large number of torrent clients (swarm)\n",
    "It prepares the set of torrent files and launches lt-client\n",
    "\n",
    "Please edit ```input_file``` and ```workingDir``` variables to make script work properly.\n",
    "\n",
    "To install dependices use commands: \n",
    "```\n",
    "sudo apt-get install ctorrent\n",
    "pip install numpy \n",
    "pip install tqdm\n",
    "```"
   ]
  },
  {
   "cell_type": "code",
   "execution_count": null,
   "metadata": {
    "collapsed": true
   },
   "outputs": [],
   "source": [
    "import random\n",
    "import math\n",
    "import numpy as np\n",
    "from tqdm import tqdm\n",
    "from time import time\n",
    "import time"
   ]
  },
  {
   "cell_type": "code",
   "execution_count": null,
   "metadata": {},
   "outputs": [],
   "source": [
    "!pwd #what is our working directorty?"
   ]
  },
  {
   "cell_type": "code",
   "execution_count": null,
   "metadata": {},
   "outputs": [],
   "source": [
    "n = 100\n",
    "base_port = 6000\n",
    "input_file = '/home/latna/aponom/swarm-master/data/stackoverflow.10kk_short.tsv'\n",
    "workingDir = '/home/latna/artsokol/libtorrent/examples/.libs/'\n",
    "dataDir = '../../data/'\n",
    "torrentsDir = '../../data/torrents/'\n",
    "nDigits = int(math.log10(n) + 1); #needs for format purpose\n",
    "%cd $workingDir"
   ]
  },
  {
   "cell_type": "code",
   "execution_count": null,
   "metadata": {
    "collapsed": true
   },
   "outputs": [],
   "source": [
    "#nw = [ int(f) for f in  np.random.normal(size=n, scale=50, loc = median)] "
   ]
  },
  {
   "cell_type": "code",
   "execution_count": null,
   "metadata": {
    "scrolled": false
   },
   "outputs": [],
   "source": [
    "texts = []\n",
    "with open(input_file) as infile:\n",
    "    for line in tqdm(infile):\n",
    "        texts.append(line)"
   ]
  },
  {
   "cell_type": "raw",
   "metadata": {},
   "source": [
    "use command: ctorrent -t -u http://tracker.example.com:6969/announce -s exaple.torrent stubFile.txt -c aponom_comment\n",
    "to create torrent file"
   ]
  },
  {
   "cell_type": "code",
   "execution_count": null,
   "metadata": {},
   "outputs": [],
   "source": [
    "torrentsDir"
   ]
  },
  {
   "cell_type": "code",
   "execution_count": null,
   "metadata": {
    "scrolled": true
   },
   "outputs": [],
   "source": [
    "#create torrentsDir if it doesn't exist, clean it, and generate n torrents!\n",
    "!rm -rf $torrentsDir\n",
    "!mkdir -p $torrentsDir\n",
    "#generate torrents\n",
    "for i in tqdm(range(n)):\n",
    "    zi = str(i).zfill(nDigits)\n",
    "    !echo $zi > {dataDir}stubFile.txt\n",
    "    command = 'ctorrent -t -u http://tracker.example.com:6969/announce -s ' + torrentsDir + 'swarm_'+ zi + '.torrent '+  dataDir + 'stubFile.txt -c'\\\n",
    "    + \"'\"  + texts[i] + \"'\"\n",
    "    out = !$command"
   ]
  },
  {
   "cell_type": "code",
   "execution_count": null,
   "metadata": {},
   "outputs": [],
   "source": [
    "torrents = !ls {torrentsDir + '*.torrent'}\n",
    "torrents[:5]"
   ]
  },
  {
   "cell_type": "raw",
   "metadata": {},
   "source": [
    "at this point we ready to start torrent clinets with the command like this:\n",
    "    tmux new -d -s b_node10 './lt-client_test  ../../data/bootstrap_node10.torrent -p 7010'\n",
    "and we can use commad:\n",
    "    tmux kill-session [-t session_name]\n",
    "to kill the session with specifeid name"
   ]
  },
  {
   "cell_type": "code",
   "execution_count": null,
   "metadata": {
    "collapsed": true
   },
   "outputs": [],
   "source": [
    "#clean all tmux sessions\n",
    "!tmux kill-server\n",
    "#clean .resume dir\n",
    "!rm -f ./.resume/*"
   ]
  },
  {
   "cell_type": "code",
   "execution_count": null,
   "metadata": {
    "collapsed": true
   },
   "outputs": [],
   "source": [
    "#start gate node\n",
    "!tmux new -d -s gate-node './lt-client_test ../../data/gate1.torrent  -p 26401 -g'\n",
    "time.sleep(5)"
   ]
  },
  {
   "cell_type": "code",
   "execution_count": null,
   "metadata": {},
   "outputs": [],
   "source": [
    "session_names = []\n",
    "lt_client_start_commands = [] \n",
    "port = base_port\n",
    "for torrent in tqdm(torrents):\n",
    "    session_name = torrent.split('/')[-1].split('.')[0]\n",
    "    session_names.append(session_name)\n",
    "    command = \"'./lt-client_test \" + torrent + \" -p \" + str(port) + \"'\"\n",
    "    lt_client_start_command = 'tmux new -d -s ' + session_name + ' ' + command;\n",
    "    lt_client_start_commands.append(lt_client_start_command)\n",
    "    port = port + 1"
   ]
  },
  {
   "cell_type": "code",
   "execution_count": null,
   "metadata": {},
   "outputs": [],
   "source": [
    "#start all lt-clients\n",
    "%cd $workingDir\n",
    "for lt_client_start_command in tqdm(lt_client_start_commands):\n",
    "    !$lt_client_start_command\n",
    "    time.sleep(10)"
   ]
  },
  {
   "cell_type": "code",
   "execution_count": null,
   "metadata": {},
   "outputs": [],
   "source": [
    "#stop all sessions\n",
    "for session in tqdm(session_names):\n",
    "    stop_session(session)"
   ]
  },
  {
   "cell_type": "code",
   "execution_count": null,
   "metadata": {
    "collapsed": true
   },
   "outputs": [],
   "source": [
    "def stop_session(session_name):\n",
    "    !tmux kill-session -t $session_name\n",
    "    "
   ]
  },
  {
   "cell_type": "code",
   "execution_count": null,
   "metadata": {
    "collapsed": true
   },
   "outputs": [],
   "source": [
    "session_names = []\n",
    "for torrent in tqdm(torrents):\n",
    "    session_name = torrent.split('/')[-1].split('.')[0]\n",
    "    session_names.append(session_name)"
   ]
  },
  {
   "cell_type": "code",
   "execution_count": null,
   "metadata": {},
   "outputs": [],
   "source": [
    "lt_client_start_commands[:5]"
   ]
  },
  {
   "cell_type": "code",
   "execution_count": null,
   "metadata": {
    "collapsed": true
   },
   "outputs": [],
   "source": []
  }
 ],
 "metadata": {
  "kernelspec": {
   "display_name": "Python 3",
   "language": "python",
   "name": "python3"
  },
  "language_info": {
   "codemirror_mode": {
    "name": "ipython",
    "version": 3
   },
   "file_extension": ".py",
   "mimetype": "text/x-python",
   "name": "python",
   "nbconvert_exporter": "python",
   "pygments_lexer": "ipython3",
   "version": "3.4.3"
  }
 },
 "nbformat": 4,
 "nbformat_minor": 2
}
